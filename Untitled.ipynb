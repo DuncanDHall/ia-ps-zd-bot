{
 "cells": [
  {
   "cell_type": "code",
   "execution_count": 14,
   "metadata": {},
   "outputs": [],
   "source": [
    "import imaplib\n",
    "import email"
   ]
  },
  {
   "cell_type": "code",
   "execution_count": 4,
   "metadata": {},
   "outputs": [
    {
     "name": "stdout",
     "output_type": "stream",
     "text": [
      "user: support.bot@archive.org\n",
      "pass: p6qKOsfEuUSH1aHsNjwxW8DcvM1hbF\n"
     ]
    },
    {
     "data": {
      "text/plain": [
       "('OK', [b'Logged in'])"
      ]
     },
     "execution_count": 4,
     "metadata": {},
     "output_type": "execute_result"
    }
   ],
   "source": [
    "server = imaplib.IMAP4_SSL(host='mail.archive.org', port='993')\n",
    "server.login(input(\"user: \"), input(\"pass: \"))"
   ]
  },
  {
   "cell_type": "code",
   "execution_count": 22,
   "metadata": {},
   "outputs": [],
   "source": [
    "server.select('INBOX')\n",
    "t, ids = server.search(None, 'ALL')"
   ]
  },
  {
   "cell_type": "code",
   "execution_count": null,
   "metadata": {},
   "outputs": [],
   "source": []
  },
  {
   "cell_type": "code",
   "execution_count": 25,
   "metadata": {},
   "outputs": [],
   "source": [
    "t, data = server.fetch(ids[0].replace(b' ', b','), 'BODY[TEXT]')"
   ]
  },
  {
   "cell_type": "code",
   "execution_count": 26,
   "metadata": {},
   "outputs": [
    {
     "data": {
      "text/plain": [
       "[(b'1 (BODY[TEXT] {561}',\n",
       "  b'--5fb83b4d_6d9ba8b_4820\\r\\nContent-Type: text/plain; charset=\"utf-8\"\\r\\nContent-Transfer-Encoding: 7bit\\r\\nContent-Disposition: inline\\r\\n\\r\\nTest body\\r\\n\\r\\n\\r\\n--5fb83b4d_6d9ba8b_4820\\r\\nContent-Type: text/html; charset=\"utf-8\"\\r\\nContent-Transfer-Encoding: quoted-printable\\r\\nContent-Disposition: inline\\r\\n\\r\\n<html><head><style>body=7Bfont-family:Helvetica,Arial;font-size:13px=7D</=\\r\\nstyle></head><body><div style=3D=22font-family:Helvetica,Arial;font-size:=\\r\\n13px; =22>Test body</div><br><div class=3D=22gmail=5Fsignature=22 ></div>=\\r\\n</body></html>\\r\\n--5fb83b4d_6d9ba8b_4820--\\r\\n'),\n",
       " b')',\n",
       " (b'2 (BODY[TEXT] {238}',\n",
       "  b'<html><head><style>body=7Bfont-family:Helvetica,Arial;font-size:13px=7D</=\\r\\nstyle></head><body><div style=3D=22font-family:Helvetica,Arial;font-size:=\\r\\n13px; =22>Here</div><br><div class=3D=22gmail=5Fsignature=22></div></body=\\r\\n></html>\\r\\n'),\n",
       " b')']"
      ]
     },
     "execution_count": 26,
     "metadata": {},
     "output_type": "execute_result"
    }
   ],
   "source": [
    "data"
   ]
  },
  {
   "cell_type": "code",
   "execution_count": 32,
   "metadata": {},
   "outputs": [
    {
     "ename": "ValueError",
     "evalue": "dictionary update sequence element #1 has length 1; 2 is required",
     "output_type": "error",
     "traceback": [
      "\u001b[0;31m---------------------------------------------------------------------------\u001b[0m",
      "\u001b[0;31mValueError\u001b[0m                                Traceback (most recent call last)",
      "\u001b[0;32m<ipython-input-32-fe18805034c3>\u001b[0m in \u001b[0;36m<module>\u001b[0;34m\u001b[0m\n\u001b[0;32m----> 1\u001b[0;31m \u001b[0mdict\u001b[0m\u001b[0;34m(\u001b[0m\u001b[0mdata\u001b[0m\u001b[0;34m)\u001b[0m\u001b[0;34m\u001b[0m\u001b[0;34m\u001b[0m\u001b[0m\n\u001b[0m",
      "\u001b[0;31mValueError\u001b[0m: dictionary update sequence element #1 has length 1; 2 is required"
     ]
    }
   ],
   "source": [
    "dict(data)"
   ]
  },
  {
   "cell_type": "code",
   "execution_count": 34,
   "metadata": {},
   "outputs": [],
   "source": [
    "from pprint import pprint"
   ]
  },
  {
   "cell_type": "code",
   "execution_count": 35,
   "metadata": {},
   "outputs": [
    {
     "name": "stdout",
     "output_type": "stream",
     "text": [
      "[(b'1 (BODY[TEXT] {561}',\n",
      "  b'--5fb83b4d_6d9ba8b_4820\\r\\nContent-Type: text/plain; charset=\"utf-8\"\\r\\n'\n",
      "  b'Content-Transfer-Encoding: 7bit\\r\\nContent-Disposition: inline\\r\\n\\r\\nTest'\n",
      "  b' body\\r\\n\\r\\n\\r\\n--5fb83b4d_6d9ba8b_4820\\r\\nContent-Type: text/html; cha'\n",
      "  b'rset=\"utf-8\"\\r\\nContent-Transfer-Encoding: quoted-printable\\r\\nContent-D'\n",
      "  b'isposition: inline\\r\\n\\r\\n<html><head><style>body=7Bfont-family:Helvetic'\n",
      "  b'a,Arial;font-size:13px=7D</=\\r\\nstyle></head><body><div style=3D=22font-fa'\n",
      "  b'mily:Helvetica,Arial;font-size:=\\r\\n13px; =22>Test body</div><br><div clas'\n",
      "  b's=3D=22gmail=5Fsignature=22 ></div>=\\r\\n</body></html>\\r\\n--5fb83b4d_6d9'\n",
      "  b'ba8b_4820--\\r\\n'),\n",
      " b')',\n",
      " (b'2 (BODY[TEXT] {238}',\n",
      "  b'<html><head><style>body=7Bfont-family:Helvetica,Arial;font-size:13px=7D<'\n",
      "  b'/=\\r\\nstyle></head><body><div style=3D=22font-family:Helvetica,Arial;font-'\n",
      "  b'size:=\\r\\n13px; =22>Here</div><br><div class=3D=22gmail=5Fsignature=22></d'\n",
      "  b'iv></body=\\r\\n></html>\\r\\n'),\n",
      " b')']\n"
     ]
    }
   ],
   "source": [
    "pprint(data)"
   ]
  },
  {
   "cell_type": "code",
   "execution_count": null,
   "metadata": {},
   "outputs": [],
   "source": []
  },
  {
   "cell_type": "code",
   "execution_count": null,
   "metadata": {},
   "outputs": [],
   "source": []
  }
 ],
 "metadata": {
  "kernelspec": {
   "display_name": "Python 3",
   "language": "python",
   "name": "python3"
  },
  "language_info": {
   "codemirror_mode": {
    "name": "ipython",
    "version": 3
   },
   "file_extension": ".py",
   "mimetype": "text/x-python",
   "name": "python",
   "nbconvert_exporter": "python",
   "pygments_lexer": "ipython3",
   "version": "3.8.6"
  }
 },
 "nbformat": 4,
 "nbformat_minor": 4
}
