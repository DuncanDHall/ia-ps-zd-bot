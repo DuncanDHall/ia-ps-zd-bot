{
 "cells": [
  {
   "cell_type": "code",
   "execution_count": 1,
   "metadata": {},
   "outputs": [],
   "source": [
    "import imapclient\n",
    "import email"
   ]
  },
  {
   "cell_type": "code",
   "execution_count": 2,
   "metadata": {},
   "outputs": [
    {
     "data": {
      "text/plain": [
       "b'Logged in'"
      ]
     },
     "execution_count": 2,
     "metadata": {},
     "output_type": "execute_result"
    }
   ],
   "source": [
    "server = imapclient.IMAPClient(host='mail.archive.org', port='993')\n",
    "server.login('support.tickets.bot@archive.org', 'YmGG6g45akGdV5q0QX8it3CDXSl7Vc')"
   ]
  },
  {
   "cell_type": "code",
   "execution_count": 11,
   "metadata": {},
   "outputs": [
    {
     "data": {
      "text/plain": [
       "0"
      ]
     },
     "execution_count": 11,
     "metadata": {},
     "output_type": "execute_result"
    }
   ],
   "source": [
    "server.select_folder('FROM_ZENDESK')\n",
    "ids = server.search(['BEFORE', '28-Nov-2020'])\n",
    "len(ids)"
   ]
  },
  {
   "cell_type": "code",
   "execution_count": 12,
   "metadata": {},
   "outputs": [],
   "source": [
    "# server.delete_messages(ids)\n",
    "# server.expunge()"
   ]
  },
  {
   "cell_type": "code",
   "execution_count": 56,
   "metadata": {},
   "outputs": [],
   "source": [
    "data = server.fetch(ids, ['ENVELOPE', 'INTERNALDATE', 'BODY[TEXT]'])"
   ]
  },
  {
   "cell_type": "code",
   "execution_count": 57,
   "metadata": {
    "scrolled": false
   },
   "outputs": [
    {
     "name": "stdout",
     "output_type": "stream",
     "text": [
      "found one\n",
      "found one\n",
      "found one\n",
      "found one\n",
      "found one\n",
      "found one\n",
      "found one\n",
      "found one\n",
      "found one\n",
      "found one\n",
      "found one\n",
      "found one\n",
      "found one\n",
      "found one\n",
      "found one\n",
      "found one\n",
      "found one\n",
      "found one\n",
      "found one\n",
      "found one\n",
      "found one\n",
      "found one\n",
      "found one\n",
      "found one\n",
      "found one\n",
      "found one\n",
      "found one\n",
      "found one\n",
      "found one\n",
      "found one\n",
      "found one\n",
      "found one\n",
      "found one\n",
      "found one\n",
      "found one\n",
      "found one\n",
      "found one\n",
      "found one\n",
      "found one\n",
      "found one\n",
      "found one\n",
      "found one\n",
      "found one\n",
      "found one\n"
     ]
    }
   ],
   "source": [
    "previous_dt = None\n",
    "for msg_id in data:\n",
    "    current_dt = data[msg_id][b'INTERNALDATE']\n",
    "    if current_dt is None:\n",
    "        print(msg_id, data[msg_id])\n",
    "    if previous_dt is not None:\n",
    "        if current_dt < previous_dt:\n",
    "            print('found one')\n",
    "    \n",
    "    previous_dt = current_dt"
   ]
  },
  {
   "cell_type": "code",
   "execution_count": 59,
   "metadata": {},
   "outputs": [
    {
     "data": {
      "text/plain": [
       "{b'SEQ': 84,\n",
       " b'INTERNALDATE': datetime.datetime(2020, 11, 24, 13, 6, 46),\n",
       " b'ENVELOPE': Envelope(date=datetime.datetime(2020, 11, 24, 13, 6, 42), subject=b'Automatische Antwort: New Life for Flash Animations on the Internet Archive', from_=(Address(name=b'Rothermundt Christian HCARE-KSSG-ONKO', route=None, mailbox=b'Christian.Rothermundt', host=b'kssg.ch'),), sender=(Address(name=b'Rothermundt Christian HCARE-KSSG-ONKO', route=None, mailbox=b'Christian.Rothermundt', host=b'kssg.ch'),), reply_to=(Address(name=b'Rothermundt Christian HCARE-KSSG-ONKO', route=None, mailbox=b'Christian.Rothermundt', host=b'kssg.ch'),), to=(Address(name=b'Internet Archive', route=None, mailbox=b'info', host=b'archive.org'),), cc=None, bcc=None, in_reply_to=b'<38bd6154386f64fcd92204a25.0b0242ee69.20201124174939.b43af12478.5e9e9ff7@mail20.sea41.rsgsv.net>', message_id=b'<cb0d2b719b16404fb7a54899cbfba84a@s-000-0140.sg.hcare.ch>'),\n",
       " b'BODY[TEXT]': b'--_000_cb0d2b719b16404fb7a54899cbfba84as0000140sghcarech_\\r\\nContent-Type: text/plain; charset=\"iso-8859-1\"\\r\\nContent-Transfer-Encoding: quoted-printable\\r\\n\\r\\nBesten Dank f=FCr Ihre E-Mail. Ich befinde mich derzeit ausser Haus, bin je=\\r\\ndoch gerne ab 30.11.2020 wieder f=FCr Sie erreichbar. Aus Vertraulichkeitsg=\\r\\nr=FCnden wird Ihre E-Mail nicht automatisch weitergeleitet. Vielen Dank f=\\r\\n=FCr Ihr Verst=E4ndnis. In dringenden F=E4llen wenden Sie sich bitte an den=\\r\\n Dienstarzt Onkologie unter 071 494 11 11.\\r\\nFreundliche Gr=FCsse\\r\\nChristian Rothermundt\\r\\nLeitender Arzt Onkologie/H=E4matologie\\r\\n\\r\\n\\r\\n\\r\\n--_000_cb0d2b719b16404fb7a54899cbfba84as0000140sghcarech_\\r\\nContent-Type: text/html; charset=\"iso-8859-1\"\\r\\nContent-Transfer-Encoding: quoted-printable\\r\\n\\r\\n<html xmlns:o=3D\"urn:schemas-microsoft-com:office:office\" xmlns:w=3D\"urn:sc=\\r\\nhemas-microsoft-com:office:word\" xmlns:m=3D\"http://schemas.microsoft.com/of=\\r\\nfice/2004/12/omml\" xmlns=3D\"http://www.w3.org/TR/REC-html40\">\\r\\n<head>\\r\\n<meta http-equiv=3D\"Content-Type\" content=3D\"text/html; charset=3Diso-8859-=\\r\\n1\">\\r\\n<meta name=3D\"Generator\" content=3D\"Microsoft Word 15 (filtered medium)\">\\r\\n<style><!--\\r\\n/* Font Definitions */\\r\\n@font-face\\r\\n\\t{font-family:\"Segoe UI\";\\r\\n\\tpanose-1:2 11 5 2 4 2 4 2 2 3;}\\r\\n/* Style Definitions */\\r\\np.MsoNormal, li.MsoNormal, div.MsoNormal\\r\\n\\t{margin:0cm;\\r\\n\\tmargin-bottom:.0001pt;\\r\\n\\tfont-size:11.0pt;\\r\\n\\tfont-family:\"Arial\",sans-serif;\\r\\n\\tmso-fareast-language:EN-US;}\\r\\nh1\\r\\n\\t{mso-style-priority:9;\\r\\n\\tmso-style-link:\"=DCberschrift 1 Zchn\";\\r\\n\\tmargin-top:6.0pt;\\r\\n\\tmargin-right:0cm;\\r\\n\\tmargin-bottom:12.0pt;\\r\\n\\tmargin-left:0cm;\\r\\n\\tpage-break-after:avoid;\\r\\n\\tfont-size:15.0pt;\\r\\n\\tfont-family:\"Arial\",sans-serif;\\r\\n\\tmso-fareast-language:EN-US;}\\r\\nh2\\r\\n\\t{mso-style-priority:9;\\r\\n\\tmso-style-link:\"=DCberschrift 2 Zchn\";\\r\\n\\tmargin-top:10.0pt;\\r\\n\\tmargin-right:0cm;\\r\\n\\tmargin-bottom:3.0pt;\\r\\n\\tmargin-left:0cm;\\r\\n\\tpage-break-after:avoid;\\r\\n\\tfont-size:13.0pt;\\r\\n\\tfont-family:\"Arial\",sans-serif;\\r\\n\\tmso-fareast-language:EN-US;}\\r\\nh3\\r\\n\\t{mso-style-priority:9;\\r\\n\\tmso-style-link:\"=DCberschrift 3 Zchn\";\\r\\n\\tmargin-top:10.0pt;\\r\\n\\tmargin-right:0cm;\\r\\n\\tmargin-bottom:0cm;\\r\\n\\tmargin-left:0cm;\\r\\n\\tmargin-bottom:.0001pt;\\r\\n\\tpage-break-after:avoid;\\r\\n\\tfont-size:11.0pt;\\r\\n\\tfont-family:\"Arial\",sans-serif;\\r\\n\\tmso-fareast-language:EN-US;}\\r\\nh4\\r\\n\\t{mso-style-priority:9;\\r\\n\\tmso-style-link:\"=DCberschrift 4 Zchn\";\\r\\n\\tmargin-top:2.0pt;\\r\\n\\tmargin-right:0cm;\\r\\n\\tmargin-bottom:0cm;\\r\\n\\tmargin-left:0cm;\\r\\n\\tmargin-bottom:.0001pt;\\r\\n\\tpage-break-after:avoid;\\r\\n\\tfont-size:11.0pt;\\r\\n\\tfont-family:\"Arial\",sans-serif;\\r\\n\\tmso-fareast-language:EN-US;\\r\\n\\tfont-weight:normal;\\r\\n\\tfont-style:italic;}\\r\\nh5\\r\\n\\t{mso-style-priority:9;\\r\\n\\tmso-style-link:\"=DCberschrift 5 Zchn\";\\r\\n\\tmargin-top:2.0pt;\\r\\n\\tmargin-right:0cm;\\r\\n\\tmargin-bottom:0cm;\\r\\n\\tmargin-left:0cm;\\r\\n\\tmargin-bottom:.0001pt;\\r\\n\\tpage-break-after:avoid;\\r\\n\\tfont-size:11.0pt;\\r\\n\\tfont-family:\"Arial\",sans-serif;\\r\\n\\tmso-fareast-language:EN-US;\\r\\n\\tfont-weight:normal;}\\r\\nh6\\r\\n\\t{mso-style-priority:9;\\r\\n\\tmso-style-link:\"=DCberschrift 6 Zchn\";\\r\\n\\tmargin-top:2.0pt;\\r\\n\\tmargin-right:0cm;\\r\\n\\tmargin-bottom:0cm;\\r\\n\\tmargin-left:0cm;\\r\\n\\tmargin-bottom:.0001pt;\\r\\n\\tpage-break-after:avoid;\\r\\n\\tfont-size:11.0pt;\\r\\n\\tfont-family:\"Arial\",sans-serif;\\r\\n\\tmso-fareast-language:EN-US;\\r\\n\\tfont-weight:normal;}\\r\\np.MsoHeading7, li.MsoHeading7, div.MsoHeading7\\r\\n\\t{mso-style-priority:9;\\r\\n\\tmso-style-link:\"=DCberschrift 7 Zchn\";\\r\\n\\tmargin-top:2.0pt;\\r\\n\\tmargin-right:0cm;\\r\\n\\tmargin-bottom:0cm;\\r\\n\\tmargin-left:0cm;\\r\\n\\tmargin-bottom:.0001pt;\\r\\n\\tpage-break-after:avoid;\\r\\n\\tfont-size:11.0pt;\\r\\n\\tfont-family:\"Arial\",sans-serif;\\r\\n\\tmso-fareast-language:EN-US;\\r\\n\\tfont-style:italic;}\\r\\np.MsoHeading8, li.MsoHeading8, div.MsoHeading8\\r\\n\\t{mso-style-priority:9;\\r\\n\\tmso-style-link:\"=DCberschrift 8 Zchn\";\\r\\n\\tmargin-top:2.0pt;\\r\\n\\tmargin-right:0cm;\\r\\n\\tmargin-bottom:0cm;\\r\\n\\tmargin-left:0cm;\\r\\n\\tmargin-bottom:.0001pt;\\r\\n\\tpage-break-after:avoid;\\r\\n\\tfont-size:10.5pt;\\r\\n\\tfont-family:\"Arial\",sans-serif;\\r\\n\\tmso-fareast-language:EN-US;}\\r\\np.MsoHeading9, li.MsoHeading9, div.MsoHeading9\\r\\n\\t{mso-style-priority:9;\\r\\n\\tmso-style-link:\"=DCberschrift 9 Zchn\";\\r\\n\\tmargin-top:2.0pt;\\r\\n\\tmargin-right:0cm;\\r\\n\\tmargin-bottom:0cm;\\r\\n\\tmargin-left:0cm;\\r\\n\\tmargin-bottom:.0001pt;\\r\\n\\tpage-break-after:avoid;\\r\\n\\tfont-size:10.5pt;\\r\\n\\tfont-family:\"Arial\",sans-serif;\\r\\n\\tmso-fareast-language:EN-US;\\r\\n\\tfont-style:italic;}\\r\\np.MsoHeader, li.MsoHeader, div.MsoHeader\\r\\n\\t{mso-style-priority:99;\\r\\n\\tmso-style-link:\"Kopfzeile Zchn\";\\r\\n\\tmargin:0cm;\\r\\n\\tmargin-bottom:.0001pt;\\r\\n\\tfont-size:9.0pt;\\r\\n\\tfont-family:\"Arial\",sans-serif;\\r\\n\\tmso-fareast-language:EN-US;}\\r\\np.MsoFooter, li.MsoFooter, div.MsoFooter\\r\\n\\t{mso-style-priority:99;\\r\\n\\tmso-style-link:\"Fu=DFzeile Zchn\";\\r\\n\\tmargin:0cm;\\r\\n\\tmargin-bottom:.0001pt;\\r\\n\\tfont-size:9.0pt;\\r\\n\\tfont-family:\"Arial\",sans-serif;\\r\\n\\tmso-fareast-language:EN-US;}\\r\\np.MsoTitle, li.MsoTitle, div.MsoTitle\\r\\n\\t{mso-style-priority:8;\\r\\n\\tmso-style-link:\"Titel Zchn\";\\r\\n\\tmargin:0cm;\\r\\n\\tmargin-bottom:.0001pt;\\r\\n\\tmso-add-space:auto;\\r\\n\\tfont-size:20.0pt;\\r\\n\\tfont-family:\"Arial\",sans-serif;\\r\\n\\tletter-spacing:.25pt;\\r\\n\\tmso-fareast-language:EN-US;\\r\\n\\tfont-weight:bold;}\\r\\np.MsoTitleCxSpFirst, li.MsoTitleCxSpFirst, div.MsoTitleCxSpFirst\\r\\n\\t{mso-style-priority:8;\\r\\n\\tmso-style-link:\"Titel Zchn\";\\r\\n\\tmso-style-type:export-only;\\r\\n\\tmargin:0cm;\\r\\n\\tmargin-bottom:.0001pt;\\r\\n\\tmso-add-space:auto;\\r\\n\\tfont-size:20.0pt;\\r\\n\\tfont-family:\"Arial\",sans-serif;\\r\\n\\tletter-spacing:.25pt;\\r\\n\\tmso-fareast-language:EN-US;\\r\\n\\tfont-weight:bold;}\\r\\np.MsoTitleCxSpMiddle, li.MsoTitleCxSpMiddle, div.MsoTitleCxSpMiddle\\r\\n\\t{mso-style-priority:8;\\r\\n\\tmso-style-link:\"Titel Zchn\";\\r\\n\\tmso-style-type:export-only;\\r\\n\\tmargin:0cm;\\r\\n\\tmargin-bottom:.0001pt;\\r\\n\\tmso-add-space:auto;\\r\\n\\tfont-size:20.0pt;\\r\\n\\tfont-family:\"Arial\",sans-serif;\\r\\n\\tletter-spacing:.25pt;\\r\\n\\tmso-fareast-language:EN-US;\\r\\n\\tfont-weight:bold;}\\r\\np.MsoTitleCxSpLast, li.MsoTitleCxSpLast, div.MsoTitleCxSpLast\\r\\n\\t{mso-style-priority:8;\\r\\n\\tmso-style-link:\"Titel Zchn\";\\r\\n\\tmso-style-type:export-only;\\r\\n\\tmargin:0cm;\\r\\n\\tmargin-bottom:.0001pt;\\r\\n\\tmso-add-space:auto;\\r\\n\\tfont-size:20.0pt;\\r\\n\\tfont-family:\"Arial\",sans-serif;\\r\\n\\tletter-spacing:.25pt;\\r\\n\\tmso-fareast-language:EN-US;\\r\\n\\tfont-weight:bold;}\\r\\np.MsoSubtitle, li.MsoSubtitle, div.MsoSubtitle\\r\\n\\t{mso-style-priority:8;\\r\\n\\tmso-style-link:\"Untertitel Zchn\";\\r\\n\\tmargin:0cm;\\r\\n\\tmargin-bottom:.0001pt;\\r\\n\\tfont-size:11.0pt;\\r\\n\\tfont-family:\"Arial\",sans-serif;\\r\\n\\tletter-spacing:.75pt;\\r\\n\\tmso-fareast-language:EN-US;}\\r\\na:link, span.MsoHyperlink\\r\\n\\t{mso-style-priority:99;\\r\\n\\tcolor:#0F6FC6;\\r\\n\\ttext-decoration:underline;}\\r\\na:visited, span.MsoHyperlinkFollowed\\r\\n\\t{mso-style-priority:99;\\r\\n\\tcolor:#A9AAAC;\\r\\n\\ttext-decoration:underline;}\\r\\np.MsoNoSpacing, li.MsoNoSpacing, div.MsoNoSpacing\\r\\n\\t{mso-style-priority:1;\\r\\n\\tmargin:0cm;\\r\\n\\tmargin-bottom:.0001pt;\\r\\n\\tfont-size:11.0pt;\\r\\n\\tfont-family:\"Arial\",sans-serif;\\r\\n\\tmso-fareast-language:EN-US;}\\r\\np.MsoIntenseQuote, li.MsoIntenseQuote, div.MsoIntenseQuote\\r\\n\\t{mso-style-priority:30;\\r\\n\\tmso-style-link:\"Intensives Zitat Zchn\";\\r\\n\\tmargin-top:18.0pt;\\r\\n\\tmargin-right:43.2pt;\\r\\n\\tmargin-bottom:18.0pt;\\r\\n\\tmargin-left:43.2pt;\\r\\n\\ttext-align:center;\\r\\n\\tborder:none;\\r\\n\\tpadding:0cm;\\r\\n\\tfont-size:11.0pt;\\r\\n\\tfont-family:\"Arial\",sans-serif;\\r\\n\\tmso-fareast-language:EN-US;\\r\\n\\tfont-style:italic;}\\r\\nspan.MsoSubtleEmphasis\\r\\n\\t{mso-style-priority:19;\\r\\n\\tcolor:windowtext;\\r\\n\\tfont-style:italic;}\\r\\nspan.MsoIntenseEmphasis\\r\\n\\t{mso-style-priority:21;\\r\\n\\tcolor:windowtext;\\r\\n\\tfont-style:italic;}\\r\\nspan.MsoIntenseReference\\r\\n\\t{mso-style-priority:32;\\r\\n\\tfont-variant:small-caps;\\r\\n\\tcolor:windowtext;\\r\\n\\tletter-spacing:.25pt;\\r\\n\\tfont-weight:bold;}\\r\\np.MsoTocHeading, li.MsoTocHeading, div.MsoTocHeading\\r\\n\\t{mso-style-priority:39;\\r\\n\\tmargin-top:12.0pt;\\r\\n\\tmargin-right:0cm;\\r\\n\\tmargin-bottom:0cm;\\r\\n\\tmargin-left:0cm;\\r\\n\\tmargin-bottom:.0001pt;\\r\\n\\tpage-break-after:avoid;\\r\\n\\tfont-size:16.0pt;\\r\\n\\tfont-family:\"Arial\",sans-serif;\\r\\n\\tmso-fareast-language:EN-US;}\\r\\np.Betreff, li.Betreff, div.Betreff\\r\\n\\t{mso-style-name:Betreff;\\r\\n\\tmso-style-priority:1;\\r\\n\\tmargin:0cm;\\r\\n\\tmargin-bottom:.0001pt;\\r\\n\\tfont-size:11.0pt;\\r\\n\\tfont-family:\"Arial\",sans-serif;\\r\\n\\tmso-fareast-language:EN-US;\\r\\n\\tfont-weight:bold;}\\r\\nspan.berschrift1Zchn\\r\\n\\t{mso-style-name:\"=DCberschrift 1 Zchn\";\\r\\n\\tmso-style-priority:9;\\r\\n\\tmso-style-link:\"=DCberschrift 1\";\\r\\n\\tfont-family:\"Arial\",sans-serif;\\r\\n\\tfont-weight:bold;}\\r\\nspan.berschrift2Zchn\\r\\n\\t{mso-style-name:\"=DCberschrift 2 Zchn\";\\r\\n\\tmso-style-priority:9;\\r\\n\\tmso-style-link:\"=DCberschrift 2\";\\r\\n\\tfont-family:\"Arial\",sans-serif;\\r\\n\\tfont-weight:bold;}\\r\\nspan.berschrift3Zchn\\r\\n\\t{mso-style-name:\"=DCberschrift 3 Zchn\";\\r\\n\\tmso-style-priority:9;\\r\\n\\tmso-style-link:\"=DCberschrift 3\";\\r\\n\\tfont-family:\"Arial\",sans-serif;\\r\\n\\tfont-weight:bold;}\\r\\nspan.TitelZchn\\r\\n\\t{mso-style-name:\"Titel Zchn\";\\r\\n\\tmso-style-priority:8;\\r\\n\\tmso-style-link:Titel;\\r\\n\\tfont-family:\"Arial\",sans-serif;\\r\\n\\tletter-spacing:.25pt;\\r\\n\\tfont-weight:bold;}\\r\\nspan.UntertitelZchn\\r\\n\\t{mso-style-name:\"Untertitel Zchn\";\\r\\n\\tmso-style-priority:8;\\r\\n\\tmso-style-link:Untertitel;\\r\\n\\tfont-family:\"Times New Roman\",serif;\\r\\n\\tletter-spacing:.75pt;}\\r\\nspan.KopfzeileZchn\\r\\n\\t{mso-style-name:\"Kopfzeile Zchn\";\\r\\n\\tmso-style-priority:99;\\r\\n\\tmso-style-link:Kopfzeile;}\\r\\nspan.FuzeileZchn\\r\\n\\t{mso-style-name:\"Fu=DFzeile Zchn\";\\r\\n\\tmso-style-priority:99;\\r\\n\\tmso-style-link:Fu=DFzeile;}\\r\\nspan.IntensivesZitatZchn\\r\\n\\t{mso-style-name:\"Intensives Zitat Zchn\";\\r\\n\\tmso-style-priority:30;\\r\\n\\tmso-style-link:\"Intensives Zitat\";\\r\\n\\tfont-style:italic;}\\r\\nspan.berschrift4Zchn\\r\\n\\t{mso-style-name:\"=DCberschrift 4 Zchn\";\\r\\n\\tmso-style-priority:9;\\r\\n\\tmso-style-link:\"=DCberschrift 4\";\\r\\n\\tfont-family:\"Arial\",sans-serif;\\r\\n\\tfont-style:italic;}\\r\\nspan.berschrift5Zchn\\r\\n\\t{mso-style-name:\"=DCberschrift 5 Zchn\";\\r\\n\\tmso-style-priority:9;\\r\\n\\tmso-style-link:\"=DCberschrift 5\";\\r\\n\\tfont-family:\"Arial\",sans-serif;}\\r\\nspan.berschrift6Zchn\\r\\n\\t{mso-style-name:\"=DCberschrift 6 Zchn\";\\r\\n\\tmso-style-priority:9;\\r\\n\\tmso-style-link:\"=DCberschrift 6\";\\r\\n\\tfont-family:\"Arial\",sans-serif;}\\r\\nspan.berschrift7Zchn\\r\\n\\t{mso-style-name:\"=DCberschrift 7 Zchn\";\\r\\n\\tmso-style-priority:9;\\r\\n\\tmso-style-link:\"=DCberschrift 7\";\\r\\n\\tfont-family:\"Arial\",sans-serif;\\r\\n\\tfont-style:italic;}\\r\\nspan.berschrift8Zchn\\r\\n\\t{mso-style-name:\"=DCberschrift 8 Zchn\";\\r\\n\\tmso-style-priority:9;\\r\\n\\tmso-style-link:\"=DCberschrift 8\";\\r\\n\\tfont-family:\"Arial\",sans-serif;}\\r\\nspan.berschrift9Zchn\\r\\n\\t{mso-style-name:\"=DCberschrift 9 Zchn\";\\r\\n\\tmso-style-priority:9;\\r\\n\\tmso-style-link:\"=DCberschrift 9\";\\r\\n\\tfont-family:\"Arial\",sans-serif;\\r\\n\\tfont-style:italic;}\\r\\nspan.E-MailFormatvorlage42\\r\\n\\t{mso-style-type:personal-compose;\\r\\n\\tfont-family:\"Arial\",sans-serif;\\r\\n\\tcolor:black;}\\r\\n.MsoChpDefault\\r\\n\\t{mso-style-type:export-only;\\r\\n\\tfont-family:\"Arial\",sans-serif;\\r\\n\\tmso-fareast-language:EN-US;}\\r\\n@page WordSection1\\r\\n\\t{size:612.0pt 792.0pt;\\r\\n\\tmargin:70.85pt 70.85pt 2.0cm 70.85pt;}\\r\\ndiv.WordSection1\\r\\n\\t{page:WordSection1;}\\r\\n/* List Definitions */\\r\\n@list l0\\r\\n\\t{mso-list-id:-128;\\r\\n\\tmso-list-type:simple;\\r\\n\\tmso-list-template-ids:-1897261136;}\\r\\n@list l0:level1\\r\\n\\t{mso-level-number-format:bullet;\\r\\n\\tmso-level-text:=B7;\\r\\n\\tmso-level-tab-stop:74.6pt;\\r\\n\\tmso-level-number-position:left;\\r\\n\\tmargin-left:74.6pt;\\r\\n\\ttext-indent:-18.0pt;\\r\\n\\tfont-family:Symbol;}\\r\\n@list l1\\r\\n\\t{mso-list-id:-127;\\r\\n\\tmso-list-type:simple;\\r\\n\\tmso-list-template-ids:1645932002;}\\r\\n@list l1:level1\\r\\n\\t{mso-level-number-format:bullet;\\r\\n\\tmso-level-text:=B7;\\r\\n\\tmso-level-tab-stop:60.45pt;\\r\\n\\tmso-level-number-position:left;\\r\\n\\tmargin-left:60.45pt;\\r\\n\\ttext-indent:-18.0pt;\\r\\n\\tfont-family:Symbol;}\\r\\n@list l2\\r\\n\\t{mso-list-id:-126;\\r\\n\\tmso-list-type:simple;\\r\\n\\tmso-list-template-ids:135940420;}\\r\\n@list l2:level1\\r\\n\\t{mso-level-number-format:bullet;\\r\\n\\tmso-level-text:=B7;\\r\\n\\tmso-level-tab-stop:46.3pt;\\r\\n\\tmso-level-number-position:left;\\r\\n\\tmargin-left:46.3pt;\\r\\n\\ttext-indent:-18.0pt;\\r\\n\\tfont-family:Symbol;}\\r\\n@list l3\\r\\n\\t{mso-list-id:-125;\\r\\n\\tmso-list-type:simple;\\r\\n\\tmso-list-template-ids:-1013431730;}\\r\\n@list l3:level1\\r\\n\\t{mso-level-number-format:bullet;\\r\\n\\tmso-level-text:=B7;\\r\\n\\tmso-level-tab-stop:32.15pt;\\r\\n\\tmso-level-number-position:left;\\r\\n\\tmargin-left:32.15pt;\\r\\n\\ttext-indent:-18.0pt;\\r\\n\\tfont-family:Symbol;}\\r\\n@list l4\\r\\n\\t{mso-list-id:-119;\\r\\n\\tmso-list-type:simple;\\r\\n\\tmso-list-template-ids:2108701104;}\\r\\n@list l4:level1\\r\\n\\t{mso-level-number-format:bullet;\\r\\n\\tmso-level-text:=B7;\\r\\n\\tmso-level-tab-stop:18.0pt;\\r\\n\\tmso-level-number-position:left;\\r\\n\\tmargin-left:18.0pt;\\r\\n\\ttext-indent:-18.0pt;\\r\\n\\tfont-family:Symbol;}\\r\\nol\\r\\n\\t{margin-bottom:0cm;}\\r\\nul\\r\\n\\t{margin-bottom:0cm;}\\r\\n--></style>\\r\\n</head>\\r\\n<body lang=3D\"DE-CH\" link=3D\"#0F6FC6\" vlink=3D\"#A9AAAC\">\\r\\n<div class=3D\"WordSection1\">\\r\\n<p class=3D\"MsoNormal\" style=3D\"text-autospace:none\"><span style=3D\"font-si=\\r\\nze:12.0pt;color:black\">Besten Dank f=FCr Ihre E-Mail. Ich befinde mich derz=\\r\\neit ausser Haus, bin jedoch gerne ab 30.11.2020 wieder f=FCr Sie erreichbar=\\r\\n. Aus Vertraulichkeitsgr=FCnden wird Ihre E-Mail\\r\\n nicht automatisch weitergeleitet. Vielen Dank f=FCr Ihr Verst=E4ndnis. In =\\r\\ndringenden F=E4llen wenden Sie sich bitte an den Dienstarzt Onkologie unter=\\r\\n 071 494 11 11.\\r\\n</span><span style=3D\"font-size:12.0pt;font-family:&quot;Times New Roman&qu=\\r\\not;,serif;color:black\"><o:p></o:p></span></p>\\r\\n<p class=3D\"MsoNormal\" style=3D\"mso-margin-top-alt:5.0pt;margin-right:0cm;m=\\r\\nargin-bottom:5.0pt;margin-left:0cm;text-autospace:none\">\\r\\n<span style=3D\"font-size:12.0pt;color:black\">Freundliche Gr=FCsse </span><s=\\r\\npan style=3D\"font-size:12.0pt;font-family:&quot;Times New Roman&quot;,serif=\\r\\n;color:black\"><o:p></o:p></span></p>\\r\\n<p class=3D\"MsoNormal\" style=3D\"mso-margin-top-alt:5.0pt;margin-right:0cm;m=\\r\\nargin-bottom:5.0pt;margin-left:0cm;text-autospace:none\">\\r\\n<span style=3D\"font-size:12.0pt;color:black\">Christian Rothermundt <o:p></o=\\r\\n:p></span></p>\\r\\n<p class=3D\"MsoNormal\" style=3D\"mso-margin-top-alt:5.0pt;margin-right:0cm;m=\\r\\nargin-bottom:5.0pt;margin-left:0cm;text-autospace:none\">\\r\\n<span style=3D\"font-size:12.0pt;color:black\">Leitender Arzt Onkologie/H=E4m=\\r\\natologie</span><span style=3D\"font-size:12.0pt;font-family:&quot;Times New =\\r\\nRoman&quot;,serif;color:black\"><o:p></o:p></span></p>\\r\\n<p class=3D\"MsoNormal\" style=3D\"mso-margin-top-alt:5.0pt;margin-right:0cm;m=\\r\\nargin-bottom:5.0pt;margin-left:0cm;text-autospace:none\">\\r\\n<span style=3D\"font-size:12.0pt;font-family:&quot;Times New Roman&quot;,ser=\\r\\nif;color:black\">&nbsp;<o:p></o:p></span></p>\\r\\n<p class=3D\"MsoNormal\" style=3D\"text-autospace:none\"><span style=3D\"font-si=\\r\\nze:8.5pt;font-family:&quot;Segoe UI&quot;,sans-serif\"><o:p>&nbsp;</o:p></sp=\\r\\nan></p>\\r\\n</div>\\r\\n</body>\\r\\n</html>\\r\\n\\r\\n--_000_cb0d2b719b16404fb7a54899cbfba84as0000140sghcarech_--\\r\\n'}"
      ]
     },
     "execution_count": 59,
     "metadata": {},
     "output_type": "execute_result"
    }
   ],
   "source": [
    "data[85]"
   ]
  },
  {
   "cell_type": "code",
   "execution_count": null,
   "metadata": {},
   "outputs": [],
   "source": []
  },
  {
   "cell_type": "code",
   "execution_count": null,
   "metadata": {},
   "outputs": [],
   "source": []
  },
  {
   "cell_type": "code",
   "execution_count": null,
   "metadata": {},
   "outputs": [],
   "source": []
  },
  {
   "cell_type": "markdown",
   "metadata": {},
   "source": [
    "# Difflib"
   ]
  },
  {
   "cell_type": "code",
   "execution_count": 1,
   "metadata": {},
   "outputs": [],
   "source": [
    "import difflib"
   ]
  },
  {
   "cell_type": "code",
   "execution_count": 3,
   "metadata": {},
   "outputs": [],
   "source": [
    "isjunk = lambda c: c in ' \\t\\n'"
   ]
  },
  {
   "cell_type": "code",
   "execution_count": 5,
   "metadata": {},
   "outputs": [],
   "source": [
    "a = \"\"\"\n",
    "if you’re comparing lines as sequences of characters, and don’t want to synch up on blanks or hard tabs.\n",
    "\n",
    "The optional arguments a and b are sequences to be compared; both default to empty strings. The elements of both sequences must be hashable.\n",
    "\n",
    "The optional argument autojunk can be used to disable the automatic junk heuristic.\n",
    "\n",
    "New in version 3.2: The autojunk parameter.\n",
    "\n",
    "SequenceMatcher objects get three data attributes: bjunk is the set of elements of b for which isjunk is True; bpopular is the set of non-junk elements considered popular by the heuristic (if it is not disabled); b2j is a dict mapping the remaining elements of b to a list of positions where they occur. All three are reset whenever b is reset with set_seqs() or set_seq2().\n",
    "\n",
    "New in version 3.2: The bjunk and bpopular attributes.\"\"\"\n",
    "\n",
    "b = \"\"\"\n",
    "if you’re comparing lines as sequences of characters, and don’t want to synch up on blanks or hard tabs.\n",
    "\\n\n",
    "\\nThe optional arguments a and b a sequences to be copared; both default to empty strings. The elements of both sequences must be hashable.\n",
    "\\n\n",
    "The optional argument autojunk can be used to disable the automatic junk heuristic.\n",
    "asd\n",
    "\\nNew in version 3.2: The autojunk parameter.\n",
    "\n",
    "SequenceMatcher objects get three data attributes: bjunk is the set of elements of b for which isjunk is True; bpopular is the set of non-junk elements considered popular by the heuristic (if it is not disabled); b2j is a dict mapping the remaining elements of b to a list of positions where they occur. All three are reset whenever b is reset with set_seqs() or set_seq2().\n",
    "\n",
    "New in version 3.2: The bjunk and bpopular attributes.\"\"\""
   ]
  },
  {
   "cell_type": "code",
   "execution_count": 6,
   "metadata": {},
   "outputs": [],
   "source": [
    "m = difflib.SequenceMatcher(isjunk=isjunk, a=a, b=b, autojunk=False)"
   ]
  },
  {
   "cell_type": "code",
   "execution_count": 7,
   "metadata": {},
   "outputs": [
    {
     "data": {
      "text/plain": [
       "<difflib.SequenceMatcher at 0x110cc3220>"
      ]
     },
     "execution_count": 7,
     "metadata": {},
     "output_type": "execute_result"
    }
   ],
   "source": [
    "m"
   ]
  },
  {
   "cell_type": "code",
   "execution_count": 9,
   "metadata": {},
   "outputs": [
    {
     "data": {
      "text/plain": [
       "[Match(a=0, b=0, size=107),\n",
       " Match(a=107, b=109, size=32),\n",
       " Match(a=141, b=141, size=19),\n",
       " Match(a=161, b=160, size=88),\n",
       " Match(a=249, b=249, size=84),\n",
       " Match(a=333, b=337, size=476),\n",
       " Match(a=809, b=813, size=0)]"
      ]
     },
     "execution_count": 9,
     "metadata": {},
     "output_type": "execute_result"
    }
   ],
   "source": [
    "m.get_matching_blocks()"
   ]
  },
  {
   "cell_type": "code",
   "execution_count": 10,
   "metadata": {},
   "outputs": [
    {
     "data": {
      "text/plain": [
       "0.9938347718865598"
      ]
     },
     "execution_count": 10,
     "metadata": {},
     "output_type": "execute_result"
    }
   ],
   "source": [
    "m.ratio()"
   ]
  },
  {
   "cell_type": "code",
   "execution_count": null,
   "metadata": {},
   "outputs": [],
   "source": []
  }
 ],
 "metadata": {
  "kernelspec": {
   "display_name": "my-virtualenv-name",
   "language": "python",
   "name": "my-virtualenv-name"
  },
  "language_info": {
   "codemirror_mode": {
    "name": "ipython",
    "version": 3
   },
   "file_extension": ".py",
   "mimetype": "text/x-python",
   "name": "python",
   "nbconvert_exporter": "python",
   "pygments_lexer": "ipython3",
   "version": "3.7.3"
  }
 },
 "nbformat": 4,
 "nbformat_minor": 4
}
