{
 "cells": [
  {
   "cell_type": "code",
   "execution_count": 1,
   "metadata": {},
   "outputs": [],
   "source": [
    "import imapclient\n",
    "import email"
   ]
  },
  {
   "cell_type": "code",
   "execution_count": 3,
   "metadata": {},
   "outputs": [],
   "source": [
    "# support_tickets_password = input('password: ')"
   ]
  },
  {
   "cell_type": "code",
   "execution_count": 4,
   "metadata": {
    "scrolled": true
   },
   "outputs": [
    {
     "data": {
      "text/plain": [
       "b'Logged in'"
      ]
     },
     "execution_count": 4,
     "metadata": {},
     "output_type": "execute_result"
    }
   ],
   "source": [
    "server = imapclient.IMAPClient(host='mail.archive.org', port='993')\n",
    "server.login('support.tickets.bot@archive.org', support_tickets_password)"
   ]
  },
  {
   "cell_type": "code",
   "execution_count": 20,
   "metadata": {},
   "outputs": [],
   "source": [
    "server.select_folder('UNMATCHED_ARCHIVE')\n",
    "unmatched_archive_ids = server.search(['ALL', 'SENTSINCE', '05-DEC-2020'])"
   ]
  },
  {
   "cell_type": "code",
   "execution_count": 21,
   "metadata": {},
   "outputs": [],
   "source": [
    "server.select_folder('MATCHED_ARCHIVE')\n",
    "matched_archive_ids = server.search(['ALL', 'SENTSINCE', '05-DEC-2020'])"
   ]
  },
  {
   "cell_type": "code",
   "execution_count": 22,
   "metadata": {
    "scrolled": true
   },
   "outputs": [
    {
     "name": "stdout",
     "output_type": "stream",
     "text": [
      "unmatched:  15222\n",
      "matched:  4778\n"
     ]
    }
   ],
   "source": [
    "print('unmatched: ', len(unmatched_archive_ids))\n",
    "print('matched: ', len(matched_archive_ids))"
   ]
  },
  {
   "cell_type": "code",
   "execution_count": null,
   "metadata": {},
   "outputs": [],
   "source": []
  },
  {
   "cell_type": "code",
   "execution_count": 14,
   "metadata": {},
   "outputs": [
    {
     "ename": "abort",
     "evalue": "socket error: [Errno 32] Broken pipe",
     "output_type": "error",
     "traceback": [
      "\u001b[0;31m---------------------------------------------------------------------------\u001b[0m",
      "\u001b[0;31mBrokenPipeError\u001b[0m                           Traceback (most recent call last)",
      "\u001b[0;32m~/.pyenv/versions/3.7.9/lib/python3.7/imaplib.py\u001b[0m in \u001b[0;36m_command\u001b[0;34m(self, name, *args)\u001b[0m\n\u001b[1;32m    978\u001b[0m         \u001b[0;32mtry\u001b[0m\u001b[0;34m:\u001b[0m\u001b[0;34m\u001b[0m\u001b[0;34m\u001b[0m\u001b[0m\n\u001b[0;32m--> 979\u001b[0;31m             \u001b[0mself\u001b[0m\u001b[0;34m.\u001b[0m\u001b[0msend\u001b[0m\u001b[0;34m(\u001b[0m\u001b[0mdata\u001b[0m \u001b[0;34m+\u001b[0m \u001b[0mCRLF\u001b[0m\u001b[0;34m)\u001b[0m\u001b[0;34m\u001b[0m\u001b[0;34m\u001b[0m\u001b[0m\n\u001b[0m\u001b[1;32m    980\u001b[0m         \u001b[0;32mexcept\u001b[0m \u001b[0mOSError\u001b[0m \u001b[0;32mas\u001b[0m \u001b[0mval\u001b[0m\u001b[0;34m:\u001b[0m\u001b[0;34m\u001b[0m\u001b[0;34m\u001b[0m\u001b[0m\n",
      "\u001b[0;32m~/.local/share/virtualenvs/ia-ps-zd-bot-ikL0THUk/lib/python3.7/site-packages/imapclient/tls.py\u001b[0m in \u001b[0;36msend\u001b[0;34m(self, data)\u001b[0m\n\u001b[1;32m     59\u001b[0m     \u001b[0;32mdef\u001b[0m \u001b[0msend\u001b[0m\u001b[0;34m(\u001b[0m\u001b[0mself\u001b[0m\u001b[0;34m,\u001b[0m \u001b[0mdata\u001b[0m\u001b[0;34m)\u001b[0m\u001b[0;34m:\u001b[0m\u001b[0;34m\u001b[0m\u001b[0;34m\u001b[0m\u001b[0m\n\u001b[0;32m---> 60\u001b[0;31m         \u001b[0mself\u001b[0m\u001b[0;34m.\u001b[0m\u001b[0msock\u001b[0m\u001b[0;34m.\u001b[0m\u001b[0msendall\u001b[0m\u001b[0;34m(\u001b[0m\u001b[0mdata\u001b[0m\u001b[0;34m)\u001b[0m\u001b[0;34m\u001b[0m\u001b[0;34m\u001b[0m\u001b[0m\n\u001b[0m\u001b[1;32m     61\u001b[0m \u001b[0;34m\u001b[0m\u001b[0m\n",
      "\u001b[0;32m~/.pyenv/versions/3.7.9/lib/python3.7/ssl.py\u001b[0m in \u001b[0;36msendall\u001b[0;34m(self, data, flags)\u001b[0m\n\u001b[1;32m   1033\u001b[0m                 \u001b[0;32mwhile\u001b[0m \u001b[0mcount\u001b[0m \u001b[0;34m<\u001b[0m \u001b[0mamount\u001b[0m\u001b[0;34m:\u001b[0m\u001b[0;34m\u001b[0m\u001b[0;34m\u001b[0m\u001b[0m\n\u001b[0;32m-> 1034\u001b[0;31m                     \u001b[0mv\u001b[0m \u001b[0;34m=\u001b[0m \u001b[0mself\u001b[0m\u001b[0;34m.\u001b[0m\u001b[0msend\u001b[0m\u001b[0;34m(\u001b[0m\u001b[0mbyte_view\u001b[0m\u001b[0;34m[\u001b[0m\u001b[0mcount\u001b[0m\u001b[0;34m:\u001b[0m\u001b[0;34m]\u001b[0m\u001b[0;34m)\u001b[0m\u001b[0;34m\u001b[0m\u001b[0;34m\u001b[0m\u001b[0m\n\u001b[0m\u001b[1;32m   1035\u001b[0m                     \u001b[0mcount\u001b[0m \u001b[0;34m+=\u001b[0m \u001b[0mv\u001b[0m\u001b[0;34m\u001b[0m\u001b[0;34m\u001b[0m\u001b[0m\n",
      "\u001b[0;32m~/.pyenv/versions/3.7.9/lib/python3.7/ssl.py\u001b[0m in \u001b[0;36msend\u001b[0;34m(self, data, flags)\u001b[0m\n\u001b[1;32m   1002\u001b[0m                     self.__class__)\n\u001b[0;32m-> 1003\u001b[0;31m             \u001b[0;32mreturn\u001b[0m \u001b[0mself\u001b[0m\u001b[0;34m.\u001b[0m\u001b[0m_sslobj\u001b[0m\u001b[0;34m.\u001b[0m\u001b[0mwrite\u001b[0m\u001b[0;34m(\u001b[0m\u001b[0mdata\u001b[0m\u001b[0;34m)\u001b[0m\u001b[0;34m\u001b[0m\u001b[0;34m\u001b[0m\u001b[0m\n\u001b[0m\u001b[1;32m   1004\u001b[0m         \u001b[0;32melse\u001b[0m\u001b[0;34m:\u001b[0m\u001b[0;34m\u001b[0m\u001b[0;34m\u001b[0m\u001b[0m\n",
      "\u001b[0;31mBrokenPipeError\u001b[0m: [Errno 32] Broken pipe",
      "\nDuring handling of the above exception, another exception occurred:\n",
      "\u001b[0;31mabort\u001b[0m                                     Traceback (most recent call last)",
      "\u001b[0;32m<ipython-input-14-adde402f6de8>\u001b[0m in \u001b[0;36m<module>\u001b[0;34m\u001b[0m\n\u001b[0;32m----> 1\u001b[0;31m \u001b[0mes\u001b[0m \u001b[0;34m=\u001b[0m \u001b[0mserver\u001b[0m\u001b[0;34m.\u001b[0m\u001b[0mfetch\u001b[0m\u001b[0;34m(\u001b[0m\u001b[0munmatched_archive_ids\u001b[0m\u001b[0;34m,\u001b[0m \u001b[0;34m[\u001b[0m\u001b[0;34m'ENVELOPE'\u001b[0m\u001b[0;34m]\u001b[0m\u001b[0;34m)\u001b[0m\u001b[0;34m\u001b[0m\u001b[0;34m\u001b[0m\u001b[0m\n\u001b[0m",
      "\u001b[0;32m~/.local/share/virtualenvs/ia-ps-zd-bot-ikL0THUk/lib/python3.7/site-packages/imapclient/imapclient.py\u001b[0m in \u001b[0;36mfetch\u001b[0;34m(self, messages, data, modifiers)\u001b[0m\n\u001b[1;32m   1222\u001b[0m         \u001b[0;32mif\u001b[0m \u001b[0mself\u001b[0m\u001b[0;34m.\u001b[0m\u001b[0muse_uid\u001b[0m\u001b[0;34m:\u001b[0m\u001b[0;34m\u001b[0m\u001b[0;34m\u001b[0m\u001b[0m\n\u001b[1;32m   1223\u001b[0m             \u001b[0margs\u001b[0m\u001b[0;34m.\u001b[0m\u001b[0minsert\u001b[0m\u001b[0;34m(\u001b[0m\u001b[0;36m0\u001b[0m\u001b[0;34m,\u001b[0m \u001b[0;34m'UID'\u001b[0m\u001b[0;34m)\u001b[0m\u001b[0;34m\u001b[0m\u001b[0;34m\u001b[0m\u001b[0m\n\u001b[0;32m-> 1224\u001b[0;31m         \u001b[0mtag\u001b[0m \u001b[0;34m=\u001b[0m \u001b[0mself\u001b[0m\u001b[0;34m.\u001b[0m\u001b[0m_imap\u001b[0m\u001b[0;34m.\u001b[0m\u001b[0m_command\u001b[0m\u001b[0;34m(\u001b[0m\u001b[0;34m*\u001b[0m\u001b[0margs\u001b[0m\u001b[0;34m)\u001b[0m\u001b[0;34m\u001b[0m\u001b[0;34m\u001b[0m\u001b[0m\n\u001b[0m\u001b[1;32m   1225\u001b[0m         \u001b[0mtyp\u001b[0m\u001b[0;34m,\u001b[0m \u001b[0mdata\u001b[0m \u001b[0;34m=\u001b[0m \u001b[0mself\u001b[0m\u001b[0;34m.\u001b[0m\u001b[0m_imap\u001b[0m\u001b[0;34m.\u001b[0m\u001b[0m_command_complete\u001b[0m\u001b[0;34m(\u001b[0m\u001b[0;34m'FETCH'\u001b[0m\u001b[0;34m,\u001b[0m \u001b[0mtag\u001b[0m\u001b[0;34m)\u001b[0m\u001b[0;34m\u001b[0m\u001b[0;34m\u001b[0m\u001b[0m\n\u001b[1;32m   1226\u001b[0m         \u001b[0mself\u001b[0m\u001b[0;34m.\u001b[0m\u001b[0m_checkok\u001b[0m\u001b[0;34m(\u001b[0m\u001b[0;34m'fetch'\u001b[0m\u001b[0;34m,\u001b[0m \u001b[0mtyp\u001b[0m\u001b[0;34m,\u001b[0m \u001b[0mdata\u001b[0m\u001b[0;34m)\u001b[0m\u001b[0;34m\u001b[0m\u001b[0;34m\u001b[0m\u001b[0m\n",
      "\u001b[0;32m~/.pyenv/versions/3.7.9/lib/python3.7/imaplib.py\u001b[0m in \u001b[0;36m_command\u001b[0;34m(self, name, *args)\u001b[0m\n\u001b[1;32m    979\u001b[0m             \u001b[0mself\u001b[0m\u001b[0;34m.\u001b[0m\u001b[0msend\u001b[0m\u001b[0;34m(\u001b[0m\u001b[0mdata\u001b[0m \u001b[0;34m+\u001b[0m \u001b[0mCRLF\u001b[0m\u001b[0;34m)\u001b[0m\u001b[0;34m\u001b[0m\u001b[0;34m\u001b[0m\u001b[0m\n\u001b[1;32m    980\u001b[0m         \u001b[0;32mexcept\u001b[0m \u001b[0mOSError\u001b[0m \u001b[0;32mas\u001b[0m \u001b[0mval\u001b[0m\u001b[0;34m:\u001b[0m\u001b[0;34m\u001b[0m\u001b[0;34m\u001b[0m\u001b[0m\n\u001b[0;32m--> 981\u001b[0;31m             \u001b[0;32mraise\u001b[0m \u001b[0mself\u001b[0m\u001b[0;34m.\u001b[0m\u001b[0mabort\u001b[0m\u001b[0;34m(\u001b[0m\u001b[0;34m'socket error: %s'\u001b[0m \u001b[0;34m%\u001b[0m \u001b[0mval\u001b[0m\u001b[0;34m)\u001b[0m\u001b[0;34m\u001b[0m\u001b[0;34m\u001b[0m\u001b[0m\n\u001b[0m\u001b[1;32m    982\u001b[0m \u001b[0;34m\u001b[0m\u001b[0m\n\u001b[1;32m    983\u001b[0m         \u001b[0;32mif\u001b[0m \u001b[0mliteral\u001b[0m \u001b[0;32mis\u001b[0m \u001b[0;32mNone\u001b[0m\u001b[0;34m:\u001b[0m\u001b[0;34m\u001b[0m\u001b[0;34m\u001b[0m\u001b[0m\n",
      "\u001b[0;31mabort\u001b[0m: socket error: [Errno 32] Broken pipe"
     ]
    }
   ],
   "source": [
    "es = server.fetch(unmatched_archive_ids, ['ENVELOPE'])"
   ]
  },
  {
   "cell_type": "code",
   "execution_count": null,
   "metadata": {},
   "outputs": [],
   "source": []
  },
  {
   "cell_type": "code",
   "execution_count": 12,
   "metadata": {},
   "outputs": [
    {
     "data": {
      "text/plain": [
       "[2, 3, 4]"
      ]
     },
     "execution_count": 12,
     "metadata": {},
     "output_type": "execute_result"
    }
   ],
   "source": [
    "a = [1, 2, 3, 4]\n",
    "a.remove(1)\n",
    "a"
   ]
  },
  {
   "cell_type": "code",
   "execution_count": null,
   "metadata": {},
   "outputs": [],
   "source": []
  },
  {
   "cell_type": "code",
   "execution_count": null,
   "metadata": {},
   "outputs": [],
   "source": []
  },
  {
   "cell_type": "code",
   "execution_count": null,
   "metadata": {},
   "outputs": [],
   "source": []
  },
  {
   "cell_type": "code",
   "execution_count": 245,
   "metadata": {},
   "outputs": [],
   "source": [
    "from datetime import datetime, timedelta"
   ]
  },
  {
   "cell_type": "code",
   "execution_count": null,
   "metadata": {},
   "outputs": [],
   "source": []
  },
  {
   "cell_type": "code",
   "execution_count": 261,
   "metadata": {},
   "outputs": [
    {
     "data": {
      "text/plain": [
       "datetime.datetime(2020, 12, 1, 18, 33, 30)"
      ]
     },
     "execution_count": 261,
     "metadata": {},
     "output_type": "execute_result"
    }
   ],
   "source": [
    "data = server.fetch(ids[:1], ['ENVELOPE'])\n",
    "data[ids[0]][b'ENVELOPE'].date"
   ]
  },
  {
   "cell_type": "code",
   "execution_count": null,
   "metadata": {},
   "outputs": [],
   "source": []
  },
  {
   "cell_type": "code",
   "execution_count": null,
   "metadata": {},
   "outputs": [],
   "source": []
  },
  {
   "cell_type": "code",
   "execution_count": null,
   "metadata": {},
   "outputs": [],
   "source": []
  },
  {
   "cell_type": "markdown",
   "metadata": {},
   "source": [
    "# Difflib"
   ]
  },
  {
   "cell_type": "code",
   "execution_count": 1,
   "metadata": {},
   "outputs": [],
   "source": [
    "import difflib"
   ]
  },
  {
   "cell_type": "code",
   "execution_count": 3,
   "metadata": {},
   "outputs": [],
   "source": [
    "isjunk = lambda c: c in ' \\t\\n'"
   ]
  },
  {
   "cell_type": "code",
   "execution_count": 5,
   "metadata": {},
   "outputs": [],
   "source": [
    "a = \"\"\"\n",
    "if you’re comparing lines as sequences of characters, and don’t want to synch up on blanks or hard tabs.\n",
    "\n",
    "The optional arguments a and b are sequences to be compared; both default to empty strings. The elements of both sequences must be hashable.\n",
    "\n",
    "The optional argument autojunk can be used to disable the automatic junk heuristic.\n",
    "\n",
    "New in version 3.2: The autojunk parameter.\n",
    "\n",
    "SequenceMatcher objects get three data attributes: bjunk is the set of elements of b for which isjunk is True; bpopular is the set of non-junk elements considered popular by the heuristic (if it is not disabled); b2j is a dict mapping the remaining elements of b to a list of positions where they occur. All three are reset whenever b is reset with set_seqs() or set_seq2().\n",
    "\n",
    "New in version 3.2: The bjunk and bpopular attributes.\"\"\"\n",
    "\n",
    "b = \"\"\"\n",
    "if you’re comparing lines as sequences of characters, and don’t want to synch up on blanks or hard tabs.\n",
    "\\n\n",
    "\\nThe optional arguments a and b a sequences to be copared; both default to empty strings. The elements of both sequences must be hashable.\n",
    "\\n\n",
    "The optional argument autojunk can be used to disable the automatic junk heuristic.\n",
    "asd\n",
    "\\nNew in version 3.2: The autojunk parameter.\n",
    "\n",
    "SequenceMatcher objects get three data attributes: bjunk is the set of elements of b for which isjunk is True; bpopular is the set of non-junk elements considered popular by the heuristic (if it is not disabled); b2j is a dict mapping the remaining elements of b to a list of positions where they occur. All three are reset whenever b is reset with set_seqs() or set_seq2().\n",
    "\n",
    "New in version 3.2: The bjunk and bpopular attributes.\"\"\""
   ]
  },
  {
   "cell_type": "code",
   "execution_count": 6,
   "metadata": {},
   "outputs": [],
   "source": [
    "m = difflib.SequenceMatcher(isjunk=isjunk, a=a, b=b, autojunk=False)"
   ]
  },
  {
   "cell_type": "code",
   "execution_count": 7,
   "metadata": {},
   "outputs": [
    {
     "data": {
      "text/plain": [
       "<difflib.SequenceMatcher at 0x110cc3220>"
      ]
     },
     "execution_count": 7,
     "metadata": {},
     "output_type": "execute_result"
    }
   ],
   "source": [
    "m"
   ]
  },
  {
   "cell_type": "code",
   "execution_count": 9,
   "metadata": {},
   "outputs": [
    {
     "data": {
      "text/plain": [
       "[Match(a=0, b=0, size=107),\n",
       " Match(a=107, b=109, size=32),\n",
       " Match(a=141, b=141, size=19),\n",
       " Match(a=161, b=160, size=88),\n",
       " Match(a=249, b=249, size=84),\n",
       " Match(a=333, b=337, size=476),\n",
       " Match(a=809, b=813, size=0)]"
      ]
     },
     "execution_count": 9,
     "metadata": {},
     "output_type": "execute_result"
    }
   ],
   "source": [
    "m.get_matching_blocks()"
   ]
  },
  {
   "cell_type": "code",
   "execution_count": 10,
   "metadata": {},
   "outputs": [
    {
     "data": {
      "text/plain": [
       "0.9938347718865598"
      ]
     },
     "execution_count": 10,
     "metadata": {},
     "output_type": "execute_result"
    }
   ],
   "source": [
    "m.ratio()"
   ]
  },
  {
   "cell_type": "markdown",
   "metadata": {},
   "source": [
    "# Zendesk msgs hotswap"
   ]
  },
  {
   "cell_type": "code",
   "execution_count": 72,
   "metadata": {},
   "outputs": [],
   "source": [
    "import requests\n",
    "from requests.auth import HTTPBasicAuth\n",
    "from pprint import pprint"
   ]
  },
  {
   "cell_type": "code",
   "execution_count": 73,
   "metadata": {},
   "outputs": [],
   "source": [
    "ticket_num = 249426"
   ]
  },
  {
   "cell_type": "code",
   "execution_count": 76,
   "metadata": {},
   "outputs": [],
   "source": [
    "# zd_password = input('ZD password: ')"
   ]
  },
  {
   "cell_type": "code",
   "execution_count": 77,
   "metadata": {},
   "outputs": [],
   "source": [
    "r = requests.get(\n",
    "    'https://archivesupport.zendesk.com/api/v2/tickets/{}/audits.json'.format(ticket_num),\n",
    "    auth=HTTPBasicAuth('duncan@archive.org', zd_password)\n",
    ")"
   ]
  },
  {
   "cell_type": "code",
   "execution_count": 78,
   "metadata": {},
   "outputs": [
    {
     "data": {
      "text/plain": [
       "1269558196832"
      ]
     },
     "execution_count": 78,
     "metadata": {},
     "output_type": "execute_result"
    }
   ],
   "source": [
    "first_audit_id = r.json()['audits'][0]['id']\n",
    "first_audit_id"
   ]
  },
  {
   "cell_type": "code",
   "execution_count": 79,
   "metadata": {},
   "outputs": [
    {
     "data": {
      "text/plain": [
       "['Comment', 'Create', 'Create', 'Create', 'Create', 'Create']"
      ]
     },
     "execution_count": 79,
     "metadata": {},
     "output_type": "execute_result"
    }
   ],
   "source": [
    "[e['type'] for e in r.json()['audits'][0]['events']]"
   ]
  },
  {
   "cell_type": "code",
   "execution_count": 80,
   "metadata": {},
   "outputs": [],
   "source": [
    "events = r.json()['audits'][0]['events']"
   ]
  },
  {
   "cell_type": "code",
   "execution_count": 176,
   "metadata": {},
   "outputs": [
    {
     "name": "stdout",
     "output_type": "stream",
     "text": [
      "1269558197372\n"
     ]
    }
   ],
   "source": [
    "for e in events:\n",
    "    if e['type'].strip().lower() == 'comment':\n",
    "        print(e['id'])"
   ]
  },
  {
   "cell_type": "code",
   "execution_count": 84,
   "metadata": {},
   "outputs": [
    {
     "data": {
      "text/plain": [
       "'265958'"
      ]
     },
     "execution_count": 84,
     "metadata": {},
     "output_type": "execute_result"
    }
   ],
   "source": [
    "import re\n",
    "p = re.compile('ZD(\\d+):.*')\n",
    "subject = 'ZD265958: Notification of payment received'\n",
    "m = p.match(subject)\n",
    "m.group(1)"
   ]
  },
  {
   "cell_type": "markdown",
   "metadata": {},
   "source": [
    "# Login"
   ]
  },
  {
   "cell_type": "code",
   "execution_count": 85,
   "metadata": {},
   "outputs": [],
   "source": [
    "s = requests.Session()"
   ]
  },
  {
   "cell_type": "code",
   "execution_count": 86,
   "metadata": {},
   "outputs": [],
   "source": [
    "r = s.get('https://archivesupport.zendesk.com/auth/v2/login/signin')"
   ]
  },
  {
   "cell_type": "code",
   "execution_count": 87,
   "metadata": {},
   "outputs": [
    {
     "data": {
      "text/plain": [
       "'5w0zcmMK4jXDslpKHQlzJfaHMLjsPM0s4xBdGTMPYKuk8FYJTokWpRdsRlgXUqlA'"
      ]
     },
     "execution_count": 87,
     "metadata": {},
     "output_type": "execute_result"
    }
   ],
   "source": [
    "auth_token_pattern = re.compile(b'<input[^<^>]*?name=\"authenticity_token\"[^<^>]*?value=\"(.*?)\".*?/>')\n",
    "m = auth_token_pattern.search(r.content)\n",
    "auth_token = m.group(1).decode()\n",
    "auth_token"
   ]
  },
  {
   "cell_type": "code",
   "execution_count": 88,
   "metadata": {},
   "outputs": [],
   "source": [
    "login_form_data = {\n",
    "    'utf8': '✓',\n",
    "    'authenticity_token': auth_token,\n",
    "    'return_to_on_failure': '/auth/v2/login/signin',\n",
    "    'return_to': 'https://help.archive.org/auth/v2/login/signed_in',\n",
    "    'brand_id': '360000261412',\n",
    "    'form_origin': 'no_return',\n",
    "    'user[email]': 'duncan@archive.org',\n",
    "    'user[password]': zd_password\n",
    "}\n",
    "r = s.post('https://archivesupport.zendesk.com/access/login', data=login_form_data)"
   ]
  },
  {
   "cell_type": "code",
   "execution_count": 89,
   "metadata": {},
   "outputs": [
    {
     "data": {
      "text/plain": [
       "200"
      ]
     },
     "execution_count": 89,
     "metadata": {},
     "output_type": "execute_result"
    }
   ],
   "source": [
    "r.status_code"
   ]
  },
  {
   "cell_type": "markdown",
   "metadata": {},
   "source": [
    "# Get Raw Email"
   ]
  },
  {
   "cell_type": "code",
   "execution_count": 90,
   "metadata": {},
   "outputs": [
    {
     "data": {
      "text/plain": [
       "'https://archivesupport.zendesk.com/audits/1269558196832/email.eml?ticket_id=249426'"
      ]
     },
     "execution_count": 90,
     "metadata": {},
     "output_type": "execute_result"
    }
   ],
   "source": [
    "url = 'https://archivesupport.zendesk.com/audits/{}/email.eml?ticket_id={}'.format(first_audit_id, ticket_num)\n",
    "url"
   ]
  },
  {
   "cell_type": "code",
   "execution_count": 91,
   "metadata": {},
   "outputs": [
    {
     "name": "stdout",
     "output_type": "stream",
     "text": [
      "200\n"
     ]
    }
   ],
   "source": [
    "r = s.get(url)\n",
    "print(r.status_code)\n",
    "if r.status_code != 200:\n",
    "    print(r.content)"
   ]
  },
  {
   "cell_type": "code",
   "execution_count": 97,
   "metadata": {},
   "outputs": [],
   "source": [
    "body = r.content"
   ]
  },
  {
   "cell_type": "code",
   "execution_count": 122,
   "metadata": {},
   "outputs": [],
   "source": [
    "import io\n",
    "zd_body_buf = io.StringIO(body.decode())"
   ]
  },
  {
   "cell_type": "code",
   "execution_count": 123,
   "metadata": {},
   "outputs": [],
   "source": [
    "while zd_body_buf.readline().strip() != '':\n",
    "    pass"
   ]
  },
  {
   "cell_type": "code",
   "execution_count": 124,
   "metadata": {},
   "outputs": [
    {
     "data": {
      "text/plain": [
       "['<html><head><style>body=7Bfont-family:Helvetica,Arial;font-size:13px=7D</=\\r\\n',\n",
       " 'style></head><body><div style=3D=22font-family:Helvetica,Arial;font-size:=\\r\\n',\n",
       " '13px; =22><br></div>This is my email that has a very important request<di=\\r\\n',\n",
       " 'v><br></div><div>-Duncan<br><div class=3D=22gmail=5Fsignature=22 ></div><=\\r\\n',\n",
       " '/div></body></html>\\r\\n']"
      ]
     },
     "execution_count": 124,
     "metadata": {},
     "output_type": "execute_result"
    }
   ],
   "source": [
    "zd_body_buf.readlines()"
   ]
  },
  {
   "cell_type": "code",
   "execution_count": null,
   "metadata": {},
   "outputs": [],
   "source": []
  },
  {
   "cell_type": "code",
   "execution_count": 171,
   "metadata": {},
   "outputs": [],
   "source": [
    "from collections import OrderedDict\n",
    "d = OrderedDict({\n",
    "    'this': 1,\n",
    "    'that': 2\n",
    "})"
   ]
  },
  {
   "cell_type": "code",
   "execution_count": 175,
   "metadata": {},
   "outputs": [
    {
     "name": "stdout",
     "output_type": "stream",
     "text": [
      "this 1\n",
      "that 2\n"
     ]
    }
   ],
   "source": [
    "for k, v in d.items():\n",
    "    print(k, v)"
   ]
  },
  {
   "cell_type": "code",
   "execution_count": 186,
   "metadata": {},
   "outputs": [
    {
     "name": "stdout",
     "output_type": "stream",
     "text": [
      "(0, ('that', 2))\n",
      "(1, ('this', 1))\n"
     ]
    }
   ],
   "source": [
    "for i in enumerate(sorted(d.items(), key=lambda x: 1 - x[1])):\n",
    "    print(i)"
   ]
  },
  {
   "cell_type": "markdown",
   "metadata": {},
   "source": [
    "# what do with the rest?"
   ]
  },
  {
   "cell_type": "code",
   "execution_count": 168,
   "metadata": {},
   "outputs": [],
   "source": [
    "import pickle\n",
    "zd_unmatched, archive_unmatched = pickle.load(open('../src/temp.pickle', 'rb'))"
   ]
  },
  {
   "cell_type": "code",
   "execution_count": 169,
   "metadata": {},
   "outputs": [
    {
     "data": {
      "text/plain": [
       "{b'SEQ': 1,\n",
       " b'INTERNALDATE': datetime.datetime(2020, 12, 1, 10, 48, 6),\n",
       " b'BODY[TEXT]': b'PGh0bWwgZGlyPSJsdHIiPgoKICA8aGVhZD4KICAgIDxtZXRhIGh0dHAtZXF1aXY9IkNvbnRl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\\r\\nICAgIDwvdGJvZHk+CiAgICA8L3RhYmxlPgogIDwvYm9keT4KCjwvaHRtbD4=\\r\\n',\n",
       " b'ENVELOPE': Envelope(date=datetime.datetime(2020, 12, 1, 10, 48, 3), subject=b'ZD267860: Notification of payment received', from_=(Address(name=b'Internet Archive', route=None, mailbox=b'support', host=b'archivesupport.zendesk.com'),), sender=(Address(name=b'Internet Archive', route=None, mailbox=b'support', host=b'archivesupport.zendesk.com'),), reply_to=(Address(name=b'Internet Archive', route=None, mailbox=b'support', host=b'archivesupport.zendesk.com'),), to=(Address(name=None, route=None, mailbox=b'support.tickets.bot', host=b'archive.org'),), cc=None, bcc=None, in_reply_to=None, message_id=b'<5fc665b398185_50b685b43133c_sprut@zendesk.com>')}"
      ]
     },
     "execution_count": 169,
     "metadata": {},
     "output_type": "execute_result"
    }
   ],
   "source": [
    "zd_unmatched[0]"
   ]
  },
  {
   "cell_type": "code",
   "execution_count": null,
   "metadata": {},
   "outputs": [],
   "source": []
  },
  {
   "cell_type": "code",
   "execution_count": null,
   "metadata": {},
   "outputs": [],
   "source": []
  },
  {
   "cell_type": "code",
   "execution_count": null,
   "metadata": {},
   "outputs": [],
   "source": []
  },
  {
   "cell_type": "code",
   "execution_count": 200,
   "metadata": {},
   "outputs": [],
   "source": [
    "with open('../src/tmp/1.0a') as f:\n",
    "    a = f.read()"
   ]
  },
  {
   "cell_type": "code",
   "execution_count": 202,
   "metadata": {},
   "outputs": [],
   "source": [
    "with open('../src/tmp/1.0z') as f:\n",
    "    z = f.read()"
   ]
  },
  {
   "cell_type": "code",
   "execution_count": 213,
   "metadata": {},
   "outputs": [
    {
     "name": "stdout",
     "output_type": "stream",
     "text": [
      "quick ratio: 1.0 in 6.985664367675781e-05 seconds\n",
      "real quick ratio: 1.0 in 0.016231298446655273 seconds\n",
      "ratio: 1.0 in 6.669493198394775 seconds\n"
     ]
    }
   ],
   "source": [
    "import difflib\n",
    "import time\n",
    "\n",
    "matcher = difflib.SequenceMatcher(isjunk=lambda c: c in ' \\n\\r\\t')\n",
    "matcher.set_seqs(a, z)\n",
    "\n",
    "start = time.time()\n",
    "r = matcher.real_quick_ratio()\n",
    "print('quick ratio: {} in {} seconds'.format(r, time.time() - start))\n",
    "\n",
    "start = time.time()\n",
    "r = matcher.quick_ratio()\n",
    "print('real quick ratio: {} in {} seconds'.format(r, time.time() - start))\n",
    "\n",
    "start = time.time()\n",
    "r = matcher.ratio()\n",
    "print('ratio: {} in {} seconds'.format(r, time.time() - start))"
   ]
  },
  {
   "cell_type": "code",
   "execution_count": 222,
   "metadata": {},
   "outputs": [],
   "source": [
    "with open('../src/tmp/0.5547861937734553a') as f:\n",
    "    a = f.read()"
   ]
  },
  {
   "cell_type": "code",
   "execution_count": 223,
   "metadata": {},
   "outputs": [],
   "source": [
    "with open('../src/tmp/0.5547861937734553z') as f:\n",
    "    z = f.read()"
   ]
  },
  {
   "cell_type": "code",
   "execution_count": 217,
   "metadata": {},
   "outputs": [
    {
     "name": "stdout",
     "output_type": "stream",
     "text": [
      "quick ratio: 0.9997410228703596 in 0.00011110305786132812 seconds\n",
      "real quick ratio: 0.985006117218407 in 0.02104806900024414 seconds\n",
      "ratio: 0.36544352066012376 in 6.2543768882751465 seconds\n"
     ]
    }
   ],
   "source": [
    "import difflib\n",
    "import time\n",
    "\n",
    "matcher = difflib.SequenceMatcher(isjunk=lambda c: c in ' \\n\\r\\t')\n",
    "matcher.set_seqs(a, z)\n",
    "\n",
    "start = time.time()\n",
    "r = matcher.real_quick_ratio()\n",
    "print('quick ratio: {} in {} seconds'.format(r, time.time() - start))\n",
    "\n",
    "start = time.time()\n",
    "r = matcher.quick_ratio()\n",
    "print('real quick ratio: {} in {} seconds'.format(r, time.time() - start))\n",
    "\n",
    "start = time.time()\n",
    "r = matcher.ratio()\n",
    "print('ratio: {} in {} seconds'.format(r, time.time() - start))"
   ]
  },
  {
   "cell_type": "code",
   "execution_count": 218,
   "metadata": {},
   "outputs": [],
   "source": [
    "import diff_match_patch as dmp_module"
   ]
  },
  {
   "cell_type": "code",
   "execution_count": 229,
   "metadata": {},
   "outputs": [],
   "source": [
    "dmp = dmp_module.diff_match_patch()\n",
    "diff = dmp.diff_main(a, z)"
   ]
  },
  {
   "cell_type": "code",
   "execution_count": 230,
   "metadata": {},
   "outputs": [
    {
     "data": {
      "text/plain": [
       "39436"
      ]
     },
     "execution_count": 230,
     "metadata": {},
     "output_type": "execute_result"
    }
   ],
   "source": [
    "dmp.diff_levenshtein(diff)"
   ]
  },
  {
   "cell_type": "code",
   "execution_count": 206,
   "metadata": {},
   "outputs": [
    {
     "data": {
      "text/plain": [
       "1.0"
      ]
     },
     "execution_count": 206,
     "metadata": {},
     "output_type": "execute_result"
    }
   ],
   "source": [
    "\n"
   ]
  },
  {
   "cell_type": "code",
   "execution_count": null,
   "metadata": {},
   "outputs": [],
   "source": []
  },
  {
   "cell_type": "code",
   "execution_count": null,
   "metadata": {},
   "outputs": [],
   "source": []
  },
  {
   "cell_type": "code",
   "execution_count": null,
   "metadata": {},
   "outputs": [],
   "source": []
  }
 ],
 "metadata": {
  "kernelspec": {
   "display_name": "ia-ps-zd-bot",
   "language": "python",
   "name": "ia-ps-zd-bot"
  },
  "language_info": {
   "codemirror_mode": {
    "name": "ipython",
    "version": 3
   },
   "file_extension": ".py",
   "mimetype": "text/x-python",
   "name": "python",
   "nbconvert_exporter": "python",
   "pygments_lexer": "ipython3",
   "version": "3.7.9"
  }
 },
 "nbformat": 4,
 "nbformat_minor": 4
}
